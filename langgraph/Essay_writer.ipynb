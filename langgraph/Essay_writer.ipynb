{
 "cells": [
  {
   "cell_type": "code",
   "execution_count": 228,
   "metadata": {},
   "outputs": [],
   "source": [
    "import langgraph\n",
    "from langgraph.checkpoint.memory import MemorySaver\n",
    "from langchain.tools.tavily_search import TavilySearchResults\n",
    "from typing_extensions import TypedDict,Optional\n",
    "from typing import List\n",
    "from langchain.output_parsers import StructuredOutputParser\n",
    "from pydantic import BaseModel\n",
    "from langgraph.graph import StateGraph,END\n",
    "from langchain_openai import ChatOpenAI\n",
    "import os \n",
    "from dotenv import load_dotenv\n",
    "from langchain_core.messages import SystemMessage,HumanMessage,AIMessage,AnyMessage\n",
    "from tavily import TavilyClient\n"
   ]
  },
  {
   "cell_type": "code",
   "execution_count": 260,
   "metadata": {},
   "outputs": [],
   "source": [
    "memory=MemorySaver()"
   ]
  },
  {
   "cell_type": "code",
   "execution_count": 261,
   "metadata": {},
   "outputs": [],
   "source": [
    "load_dotenv()\n",
    "os.environ[\"OPENAI_API_KEY\"]=os.getenv(\"OPEN_API_KEY4\")\n",
    "os.environ[\"TAVILY_API_KEY\"]=os.getenv(\"TAVILY_API_KEY\")"
   ]
  },
  {
   "cell_type": "code",
   "execution_count": 262,
   "metadata": {},
   "outputs": [],
   "source": [
    "class AgentState(TypedDict):\n",
    "    task:str\n",
    "    plan:str\n",
    "    draft:str\n",
    "    content:List[str]\n",
    "    critique:str\n",
    "    revision_number:int\n",
    "    max_revisions:int"
   ]
  },
  {
   "cell_type": "code",
   "execution_count": 263,
   "metadata": {},
   "outputs": [],
   "source": [
    "model=ChatOpenAI(model=\"gpt-3.5-turbo\", temperature=0)"
   ]
  },
  {
   "cell_type": "code",
   "execution_count": 264,
   "metadata": {},
   "outputs": [],
   "source": [
    "tavily_s = TavilyClient(api_key=os.environ[\"TAVILY_API_KEY\"])"
   ]
  },
  {
   "cell_type": "code",
   "execution_count": 265,
   "metadata": {},
   "outputs": [],
   "source": [
    "PLAN_PROMPT = \"\"\"You are an expert writer tasked with writing a high level outline of an essay. \\\n",
    "Write such an outline for the user provided topic. Give an outline of the essay along with any relevant notes \\\n",
    "or instructions for the sections.\"\"\""
   ]
  },
  {
   "cell_type": "code",
   "execution_count": 266,
   "metadata": {},
   "outputs": [],
   "source": [
    "WRITER_PROMPT = \"\"\"You are an essay assistant tasked with writing excellent 5-paragraph essays.\\\n",
    "Generate the best essay possible for the user's request and the initial outline. \\\n",
    "If the user provides critique, respond with a revised version of your previous attempts. \\\n",
    "Utilize all the information below as needed: \n",
    "\n",
    "------\n",
    "\n",
    "{content}\"\"\""
   ]
  },
  {
   "cell_type": "code",
   "execution_count": 267,
   "metadata": {},
   "outputs": [],
   "source": [
    "REFLECTION_PROMPT = \"\"\"You are a teacher grading an essay submission. \\\n",
    "Generate critique and recommendations for the user's submission. \\\n",
    "Provide detailed recommendations, including requests for length, depth, style, etc.\"\"\""
   ]
  },
  {
   "cell_type": "code",
   "execution_count": 268,
   "metadata": {},
   "outputs": [],
   "source": [
    "RESEARCH_PLAN_PROMPT = \"\"\"You are a researcher charged with providing information that can \\\n",
    "be used when writing the following essay. Generate a list of search queries that will gather \\\n",
    "any relevant information. Only generate 3 queries max.\"\"\"\n"
   ]
  },
  {
   "cell_type": "code",
   "execution_count": 269,
   "metadata": {},
   "outputs": [],
   "source": [
    "RESEARCH_CRITIQUE_PROMPT = \"\"\"You are a researcher charged with providing information that can \\\n",
    "be used when making any requested revisions (as outlined below). \\\n",
    "Generate a list of search queries that will gather any relevant information. Only generate 3 queries max.\"\"\"\n"
   ]
  },
  {
   "cell_type": "code",
   "execution_count": 270,
   "metadata": {},
   "outputs": [],
   "source": [
    "from langchain_core.pydantic_v1 import BaseModel\n",
    "\n",
    "class Queries(BaseModel):\n",
    "    queries: List[str]\n"
   ]
  },
  {
   "cell_type": "code",
   "execution_count": 271,
   "metadata": {},
   "outputs": [],
   "source": [
    "from langchain.tools.tavily_search import TavilySearchResults\n",
    "tavily=TavilySearchResults(max_results=2)"
   ]
  },
  {
   "cell_type": "code",
   "execution_count": 272,
   "metadata": {},
   "outputs": [],
   "source": [
    "def plan_node(state:AgentState):\n",
    "    messages=[\n",
    "        SystemMessage(content=PLAN_PROMPT),\n",
    "        HumanMessage(content=state[\"task\"])\n",
    "    ]\n",
    "    responce=model.invoke(\n",
    "        messages\n",
    "    )\n",
    "    return {\"plan\":responce.content}"
   ]
  },
  {
   "cell_type": "code",
   "execution_count": 273,
   "metadata": {},
   "outputs": [],
   "source": [
    "def research_plan_node(state: AgentState):\n",
    "    queries = model.with_structured_output(Queries).invoke([\n",
    "        SystemMessage(content=RESEARCH_PLAN_PROMPT),\n",
    "        HumanMessage(content=state['task'])\n",
    "    ])\n",
    "    content = state.get(\"content\", [])\n",
    "    for q in queries.queries:\n",
    "        response = tavily_s.search(query=q, max_results=2)\n",
    "        for r in response['results']:\n",
    "            content.append(r['content'])\n",
    "    return {\"content\": content}"
   ]
  },
  {
   "cell_type": "code",
   "execution_count": 274,
   "metadata": {},
   "outputs": [],
   "source": [
    "def generation_node(state:AgentState):\n",
    "    content=f\"\\n\\n\".join(state[\"content\"] or [])\n",
    "    user_content=HumanMessage(content=f\"{state['task']}\\n\\n here is my plan {state['plan']}\")\n",
    "    message=[\n",
    "        SystemMessage(content=WRITER_PROMPT.format(content=content)),\n",
    "        user_content\n",
    "    ]\n",
    "    responce=model.invoke(message)\n",
    "    return {\n",
    "        \"draft\":responce.content,\n",
    "        \"revision_number\":state.get(\"revision_number\",1)+1\n",
    "    }\n",
    "    "
   ]
  },
  {
   "cell_type": "code",
   "execution_count": 275,
   "metadata": {},
   "outputs": [],
   "source": [
    "def reflection_node(state: AgentState):\n",
    "    messages = [\n",
    "        SystemMessage(content=REFLECTION_PROMPT), \n",
    "        HumanMessage(content=state['draft'])\n",
    "    ]\n",
    "    response = model.invoke(messages)\n",
    "    return {\"critique\": response.content}"
   ]
  },
  {
   "cell_type": "code",
   "execution_count": 276,
   "metadata": {},
   "outputs": [],
   "source": [
    "def research_critique_node(state: AgentState):\n",
    "    queries = model.with_structured_output(Queries).invoke([\n",
    "        SystemMessage(content=RESEARCH_CRITIQUE_PROMPT),\n",
    "        HumanMessage(content=state['critique'])\n",
    "    ])\n",
    "    content = state.get(\"content\", [])\n",
    "    for q in queries.queries:\n",
    "        response = tavily_s.search(query=q, max_results=2)\n",
    "        for r in response['results']:\n",
    "            content.append(r['content'])\n",
    "    return {\"content\": content}"
   ]
  },
  {
   "cell_type": "code",
   "execution_count": 277,
   "metadata": {},
   "outputs": [],
   "source": [
    "def should_continue(state):\n",
    "    if state[\"revision_number\"] > state[\"max_revisions\"]:\n",
    "        return END\n",
    "    return \"reflect\""
   ]
  },
  {
   "cell_type": "code",
   "execution_count": 278,
   "metadata": {},
   "outputs": [
    {
     "data": {
      "text/plain": [
       "<langgraph.graph.state.StateGraph at 0x150f8cf90>"
      ]
     },
     "execution_count": 278,
     "metadata": {},
     "output_type": "execute_result"
    }
   ],
   "source": [
    "graph=StateGraph(AgentState)\n",
    "graph.add_node(\"planner\",plan_node)"
   ]
  },
  {
   "cell_type": "code",
   "execution_count": 279,
   "metadata": {},
   "outputs": [
    {
     "data": {
      "text/plain": [
       "<langgraph.graph.state.StateGraph at 0x150f8cf90>"
      ]
     },
     "execution_count": 279,
     "metadata": {},
     "output_type": "execute_result"
    }
   ],
   "source": [
    "\n",
    "graph.add_node(\"generate\",generation_node)\n",
    "graph.add_node(\"reflect\",reflection_node)\n",
    "graph.add_node(\"research_plan\", research_plan_node)\n",
    "graph.add_node(\"research_critique\", research_critique_node)\n"
   ]
  },
  {
   "cell_type": "code",
   "execution_count": 280,
   "metadata": {},
   "outputs": [
    {
     "data": {
      "text/plain": [
       "<langgraph.graph.state.StateGraph at 0x150f8cf90>"
      ]
     },
     "execution_count": 280,
     "metadata": {},
     "output_type": "execute_result"
    }
   ],
   "source": [
    "graph.add_conditional_edges(\n",
    "    \"generate\",\n",
    "    should_continue,\n",
    "    {END:END,\"reflect\":\"reflect\"}\n",
    ")"
   ]
  },
  {
   "cell_type": "code",
   "execution_count": 281,
   "metadata": {},
   "outputs": [
    {
     "data": {
      "text/plain": [
       "<langgraph.graph.state.StateGraph at 0x150f8cf90>"
      ]
     },
     "execution_count": 281,
     "metadata": {},
     "output_type": "execute_result"
    }
   ],
   "source": [
    "graph.set_entry_point(\"planner\")\n",
    "graph.add_edge(\"planner\", \"research_plan\")\n",
    "graph.add_edge(\"research_plan\", \"generate\")\n",
    "\n",
    "graph.add_edge(\"reflect\", \"research_critique\")\n",
    "graph.add_edge(\"research_critique\", \"generate\")"
   ]
  },
  {
   "cell_type": "code",
   "execution_count": 282,
   "metadata": {},
   "outputs": [],
   "source": [
    "graph_2 = graph.compile(checkpointer=memory)"
   ]
  },
  {
   "cell_type": "code",
   "execution_count": 283,
   "metadata": {},
   "outputs": [
    {
     "name": "stdout",
     "output_type": "stream",
     "text": [
      "{'planner': {'plan': 'I. Introduction\\n    A. Brief overview of Langchain and Langsmith\\n    B. Thesis statement: Exploring the differences between Langchain and Langsmith\\n\\nII. Langchain\\n    A. Definition and explanation\\n    B. Key features and characteristics\\n    C. Use cases and applications\\n    D. Advantages and disadvantages\\n\\nIII. Langsmith\\n    A. Definition and explanation\\n    B. Key features and characteristics\\n    C. Use cases and applications\\n    D. Advantages and disadvantages\\n\\nIV. Comparison between Langchain and Langsmith\\n    A. Technology stack\\n    B. Scalability\\n    C. Security\\n    D. Performance\\n    E. Adoption and popularity\\n\\nV. Conclusion\\n    A. Recap of main differences between Langchain and Langsmith\\n    B. Implications for the future of blockchain technology\\n    C. Final thoughts and recommendations\\n\\nNotes:\\n- Ensure a clear and concise explanation of both Langchain and Langsmith.\\n- Provide specific examples of use cases for each technology.\\n- Use data and statistics to support the comparison between the two technologies.\\n- Conclude with insights on the potential impact of Langchain and Langsmith on the blockchain industry.'}}\n",
      "{'research_plan': {'content': ['This report aims to provide a detailed analysis of the difference between LangChain and LangSmith based on the information available from various sources. LangChain: A Language Model Software Tool for Prototyping. LangChain is a language model software tool that is primarily focused on helping developers build prototypes. It provides a platform ...', \"In this blog, we'll delve into the differences between LangChain and LangSmith, their pros and cons, and when to use each one. LangChain. LangChain is an open-source Python package that provides a framework for building and deploying LLM applications. It allows developers to create prototypes quickly and easily, making it an ideal choice for ...\", 'Overview of the library and its purpose LangChain is an open-source Python library that simplifies the process of building applications with LLMs. It provides tools and abstractions to help you integrate LLMs into your projects, create robust chains and agents, and manage memory and storage.', \"How to use tools in a chain How to migrate from legacy LangChain agents to LangGraph How to use chat models to call tools LangChain is a framework for developing applications powered by large language models (LLMs). Development: Build your applications using LangChain's open-source building blocks, components, and third-party integrations. langchain: Chains, agents, and retrieval strategies that make up an application's cognitive architecture. LangServe: Deploy LangChain chains as REST APIs. LangSmith: A developer platform that lets you debug, test, evaluate, and monitor LLM applications. Build stateful, multi-actor applications with LLMs. Integrates smoothly with LangChain, but can be used without it. LangChain is part of a rich ecosystem of tools that integrate with our framework and build on top of it.\", 'LangSmith is a unified DevOps platform for developing, collaborating, testing, deploying, and monitoring LLM applications - built for every step of the appli...', 'We consistently see developers relying on LangSmith to track the system-level performance of their application (like latency and cost), track the model/chain performance (through associating feedback with runs), debug issues (diving into a particular run that went wrong), and establish a broad understanding of how users are interacting with their application and what their experience is like.\\n Over the last few months, we’ve been working directly with some early design partners and testing it on our own internal workflows, and we’ve found LangSmith helps teams in 5 core ways:\\nDebugging\\nLangSmith gives you full visibility into model inputs and output of every step in the chain of events. As a very simple example, we considered it to be table stakes for LangSmith to help users easily create datasets from existing logs and use them immediately for testing and evaluation, seamlessly connecting the logging/debugging workflows to the testing/evaluation ones.\\n A unified platform\\nWhile each of these product areas provide unique value, often at a specific point in time in the development process, we believe a great deal of the long term impact of LangSmith will come from having a single, fully-integrated hub to do this work from. Additionally, tracing and evaluating the complex agent prompt chains is much easier, reducing the time required to debug and refine our prompts, and giving us the confidence to move to deployment.”\\n']}}\n",
      "{'generate': {'draft': \"**Title: A Comparative Analysis of LangChain and LangSmith in Blockchain Technology**\\n\\nI. Introduction\\nIn the realm of blockchain technology, LangChain and LangSmith stand out as prominent tools with distinct functionalities. LangChain is a language model software tool tailored for prototyping, while LangSmith serves as a unified DevOps platform for developing, testing, and monitoring large language model (LLM) applications. This essay aims to delve into the disparities between LangChain and LangSmith to provide a comprehensive understanding of their unique features and applications.\\n\\nII. LangChain\\nLangChain is an open-source Python library designed to simplify the development of applications utilizing large language models (LLMs). It offers a framework for building and deploying LLM applications swiftly and efficiently. Developers can leverage LangChain to create prototypes, integrate LLMs into projects, and manage memory and storage effectively. One of its key advantages is the ease of building robust chains and agents for cognitive architectures.\\n\\nIII. LangSmith\\nContrastingly, LangSmith functions as a comprehensive DevOps platform for LLM applications, enabling developers to collaborate, test, deploy, and monitor their applications seamlessly. It provides insights into system-level and model/chain performance, aids in debugging issues, and offers a unified platform for tracking user interactions. LangSmith's core strengths lie in providing full visibility into model inputs and outputs, simplifying dataset creation from existing logs, and streamlining testing and evaluation workflows.\\n\\nIV. Comparison between LangChain and LangSmith\\nA. Technology Stack: LangChain is primarily focused on building and deploying LLM applications, while LangSmith offers a unified platform for the entire development lifecycle.\\nB. Scalability: LangChain facilitates quick prototyping, making it ideal for initial development stages, whereas LangSmith supports scalability and long-term impact through its integrated hub.\\nC. Security: Both LangChain and LangSmith prioritize security, but LangSmith's comprehensive monitoring capabilities enhance security measures.\\nD. Performance: LangChain streamlines the development process, while LangSmith enhances performance through detailed insights and debugging tools.\\nE. Adoption and Popularity: LangChain is favored for its prototyping capabilities, while LangSmith gains popularity for its comprehensive DevOps functionalities.\\n\\nV. Conclusion\\nIn conclusion, LangChain and LangSmith cater to distinct needs within the blockchain technology landscape. While LangChain excels in rapid prototyping and integration of LLMs, LangSmith shines in providing a unified platform for development, testing, and monitoring. Understanding the nuances between these tools is crucial for developers to choose the most suitable option based on their project requirements. The future implications of LangChain and LangSmith suggest a promising trajectory for enhancing blockchain applications and advancing the field of large language models.\", 'revision_number': 2}}\n",
      "{'reflect': {'critique': \"**Overall Feedback:**\\n- The essay provides a clear and structured comparison between LangChain and LangSmith in the context of blockchain technology.\\n- The introduction effectively sets the stage for the comparison, and the conclusion summarizes the key points well.\\n- The content is informative and highlights the unique features and applications of both tools.\\n\\n**Areas for Improvement:**\\n1. **Depth and Detail:**\\n   - While the essay provides a good overview of LangChain and LangSmith, it would benefit from more in-depth analysis. Consider providing specific examples, case studies, or use cases to illustrate the functionalities and advantages of each tool.\\n   - Include more technical details about the architecture, features, and capabilities of LangChain and LangSmith to enhance the reader's understanding.\\n\\n2. **Comparison Analysis:**\\n   - The comparison section could be expanded to include a more detailed analysis of how LangChain and LangSmith differ in terms of technology stack, scalability, security measures, performance optimization, and user adoption.\\n   - Provide specific examples of how each tool addresses these aspects and how they impact the development and deployment of blockchain applications.\\n\\n3. **Recommendations:**\\n   - Consider adding a section that offers recommendations for developers on when to choose LangChain over LangSmith and vice versa based on project requirements, team expertise, and scalability needs.\\n   - Include insights on potential challenges or limitations of each tool to provide a balanced perspective for readers.\\n\\n4. **Real-World Applications:**\\n   - Incorporate real-world examples or case studies where LangChain and LangSmith have been successfully implemented in blockchain projects. This will add practical relevance to the comparison and showcase the tools' effectiveness in different scenarios.\\n\\n5. **Formatting and Style:**\\n   - Ensure consistency in terminology and formatting throughout the essay.\\n   - Consider breaking down the comparison into a table format for a more visually appealing and structured presentation of the differences between LangChain and LangSmith.\\n\\n**Additional Recommendations:**\\n- Expand the essay by discussing the impact of LangChain and LangSmith on the blockchain industry and how they contribute to the evolution of large language models.\\n- Include references or citations to support the information provided and add credibility to the analysis.\\n- Aim for a more balanced perspective by discussing potential drawbacks or limitations of LangChain and LangSmith alongside their strengths.\\n\\nOverall, the essay is a good starting point for comparing LangChain and LangSmith in blockchain technology. By incorporating more detailed analysis, real-world examples, and practical recommendations, you can enhance the depth and relevance of the comparison for readers.\"}}\n",
      "{'research_critique': {'content': ['This report aims to provide a detailed analysis of the difference between LangChain and LangSmith based on the information available from various sources. LangChain: A Language Model Software Tool for Prototyping. LangChain is a language model software tool that is primarily focused on helping developers build prototypes. It provides a platform ...', \"In this blog, we'll delve into the differences between LangChain and LangSmith, their pros and cons, and when to use each one. LangChain. LangChain is an open-source Python package that provides a framework for building and deploying LLM applications. It allows developers to create prototypes quickly and easily, making it an ideal choice for ...\", 'Overview of the library and its purpose LangChain is an open-source Python library that simplifies the process of building applications with LLMs. It provides tools and abstractions to help you integrate LLMs into your projects, create robust chains and agents, and manage memory and storage.', \"How to use tools in a chain How to migrate from legacy LangChain agents to LangGraph How to use chat models to call tools LangChain is a framework for developing applications powered by large language models (LLMs). Development: Build your applications using LangChain's open-source building blocks, components, and third-party integrations. langchain: Chains, agents, and retrieval strategies that make up an application's cognitive architecture. LangServe: Deploy LangChain chains as REST APIs. LangSmith: A developer platform that lets you debug, test, evaluate, and monitor LLM applications. Build stateful, multi-actor applications with LLMs. Integrates smoothly with LangChain, but can be used without it. LangChain is part of a rich ecosystem of tools that integrate with our framework and build on top of it.\", 'LangSmith is a unified DevOps platform for developing, collaborating, testing, deploying, and monitoring LLM applications - built for every step of the appli...', 'We consistently see developers relying on LangSmith to track the system-level performance of their application (like latency and cost), track the model/chain performance (through associating feedback with runs), debug issues (diving into a particular run that went wrong), and establish a broad understanding of how users are interacting with their application and what their experience is like.\\n Over the last few months, we’ve been working directly with some early design partners and testing it on our own internal workflows, and we’ve found LangSmith helps teams in 5 core ways:\\nDebugging\\nLangSmith gives you full visibility into model inputs and output of every step in the chain of events. As a very simple example, we considered it to be table stakes for LangSmith to help users easily create datasets from existing logs and use them immediately for testing and evaluation, seamlessly connecting the logging/debugging workflows to the testing/evaluation ones.\\n A unified platform\\nWhile each of these product areas provide unique value, often at a specific point in time in the development process, we believe a great deal of the long term impact of LangSmith will come from having a single, fully-integrated hub to do this work from. Additionally, tracing and evaluating the complex agent prompt chains is much easier, reducing the time required to debug and refine our prompts, and giving us the confidence to move to deployment.”\\n', \"LangChain's architecture is built on components and chains: Components: Core building blocks representing specific tasks or functionalities, which can be reused across different applications and ...\", \"How to use tools in a chain How to migrate from legacy LangChain agents to LangGraph How to use chat models to call tools LangChain is a framework for developing applications powered by large language models (LLMs). Development: Build your applications using LangChain's open-source building blocks, components, and third-party integrations. langchain: Chains, agents, and retrieval strategies that make up an application's cognitive architecture. LangServe: Deploy LangChain chains as REST APIs. LangSmith: A developer platform that lets you debug, test, evaluate, and monitor LLM applications. Build stateful, multi-actor applications with LLMs. Integrates smoothly with LangChain, but can be used without it. LangChain is part of a rich ecosystem of tools that integrate with our framework and build on top of it.\", 'LangSmith uses the following GCP storage services: Google Cloud Storage (GCS) for runs inputs and outputs. ... Scalability LangSmith is designed to be scalable and performant. As of load testing done in February 2024, LangSmith can comfortably process 500K+ runs (spans) per minute. We anticipate that LangSmith can process 750K+ runs per minute ...', 'LangSmith provides a robust evaluation and tracing framework that is essential for ensuring the reliability and performance of applications built with language models. This section delves into the various evaluators available in LangChain, focusing on how they can be utilized to assess and enhance application quality effectively.', 'Langchain vs Langsmith: Unpacking the AI Language Model Showdown\\nOverview of Langchain and Langsmith\\nLangchain is a versatile open-source framework that enables you to build applications utilizing large language models (LLM) like GPT-3. Check out our free WhatsApp channel to stay educated on LLM developments:\\nJoin the Finxter Academy and unlock access to premium courses 👑 to certify your skills in exponential technologies and programming.\\n Frequently Asked Questions\\nWhether you’re trying to figure out which tool fits your needs or you’re just getting started with language model automation, these FAQs will help shed light on the common curiosities about Langchain and LangSmith.\\n The best way to find out is to reach out to them through the LangSmith Walkthrough page or to inquire about access directly through their support channels.\\n Here’s how you might start a simple Langchain project in Python:\\nTo integrate LangSmith, you could write something like this:\\nYou’re not limited to Python, though.', 'LangChain Project Ideas for Beginners\\n1) ChatBot\\n2) Summarization Tool\\n3) Q&A System\\n4) Waiter Bot\\n5) Travel Planning App\\nLangChain Projects on GitHub\\n6) A Search Query App\\n7) CSV-AI (CSV Files Analyzer)\\n8) Twitter Agent\\n9) Instrukt\\n10) SolidGPT\\nLangChain Projects in Python\\n11) HRGPT\\n12) Math Problems Solver\\n13) Food Recipe Guide\\n14) Resume Analyzer\\n15) Code Review Assistant\\nLangChain Project Ideas for Beginners\\nWe will start this blog with beginner-friendly LangChain project ideas tailored to ignite your journey into leveraging LangChain for building exciting AI projects.\\n Project Library\\nCustom Project Path\\nResources\\n15 Langchain Projects to Enhance Your Portfolio in 2024\\nA list of exciting langchain project ideas to understand LangChain applications in the real world | ProjectPro\\nGet ready to\\xa0 to explore a detailed list of fifteen practical LangChain projects that will showcase its potential to revolutionize various domains through AI-driven innovation. Start Your First Project\\nRelated Blogs on Artificial Intelligence\\nTrending Blog Categories\\nProject Categories\\nProjects\\nBlogs\\nRecipes\\nTutorials\\nProjectPro\\n© 2023\\n© 2023 Iconiq Inc.\\nAbout us\\nContact us\\nPrivacy policy\\nUser policy\\nWrite for ProjectPro By integrating natural language understanding and generation, the bot can comprehend complex requests and provide personalized recommendations, taking into account individual preferences while delivering exceptional service in a restaurant setting.\\n5) Travel Planning App\\nOne can easily build a Travel Planning App using LangChain that will serve as a comprehensive tool for itinerary generation and travel information retrieval. In this section, you will find LangChain projects that can be easily implemented in Python.\\n11) HRGPT\\nThe HR GPT project is a transformative leap in the realm of Human Resources, offering an AI-powered assistant within Slack, designed to streamline employee support, onboarding processes, and myriad HR functions.']}}\n",
      "{'generate': {'draft': \"**Title: Exploring the Contrasts Between LangChain and LangSmith in the Blockchain Industry**\\n\\nI. Introduction\\nLangChain and LangSmith are two prominent technologies in the blockchain industry, each offering unique features and capabilities. This essay aims to delve into the distinctions between LangChain and LangSmith.\\n\\nII. LangChain\\nA. LangChain is an open-source Python library facilitating the integration of large language models (LLMs) into applications.\\nB. Key features include building blocks, components, and third-party integrations for cognitive architecture.\\nC. Use cases range from chatbots to summarization tools, showcasing its versatility.\\nD. Advantages include rapid prototyping and seamless deployment, while disadvantages may include a learning curve for beginners.\\n\\nIII. LangSmith\\nA. LangSmith is a unified DevOps platform for developing, testing, and monitoring LLM applications.\\nB. Notable features encompass debugging, system-level performance tracking, and model evaluation.\\nC. Use cases involve debugging issues, tracking user interactions, and refining prompts efficiently.\\nD. Advantages consist of full visibility into model inputs and outputs, while potential disadvantages may relate to complexity for new users.\\n\\nIV. Comparison between LangChain and LangSmith\\nA. Technology Stack: LangChain is a Python library, while LangSmith integrates with GCP storage services.\\nB. Scalability: LangSmith is designed to process 500K+ runs per minute, showcasing high scalability.\\nC. Security: Both technologies prioritize data security and reliability.\\nD. Performance: LangSmith offers a robust evaluation framework, enhancing application quality.\\nE. Adoption and Popularity: Data and statistics reveal LangSmith's increasing adoption rate compared to LangChain.\\n\\nV. Conclusion\\nA. Recap: LangChain focuses on LLM integration, while LangSmith emphasizes DevOps for LLM applications.\\nB. Implications: The advancements in LangChain and LangSmith signify a promising future for blockchain technology.\\nC. Final Thoughts: Both technologies offer valuable tools for developers, with LangSmith showing potential for broader adoption in the industry.\\n\\nBy exploring the differences between LangChain and LangSmith, developers can make informed decisions on leveraging these technologies for blockchain applications, paving the way for innovative solutions in the evolving landscape of blockchain technology.\", 'revision_number': 3}}\n",
      "{'reflect': {'critique': '**Overall Feedback:**\\n- The essay provides a clear and structured comparison between LangChain and LangSmith in the blockchain industry. The introduction, detailed sections on each technology, comparison points, and conclusion are well-organized.\\n- The content is informative and highlights key features, advantages, and potential drawbacks of both technologies effectively.\\n\\n**Areas for Improvement:**\\n1. **Depth and Detail:**\\n   - While the essay covers the basics of LangChain and LangSmith, it would benefit from more in-depth analysis. Consider elaborating on specific use cases, real-world examples, and case studies to provide a richer understanding of how these technologies are applied in practice.\\n   - Provide more technical details about the architecture, algorithms, and methodologies used in LangChain and LangSmith to showcase a deeper understanding of the technologies.\\n\\n2. **Critical Analysis:**\\n   - Include a critical analysis of the strengths and weaknesses of each technology beyond just advantages and disadvantages. Discuss how these factors impact performance, scalability, security, and usability in different scenarios.\\n\\n3. **Visual Aids:**\\n   - Incorporate diagrams, charts, or tables to visually represent the differences between LangChain and LangSmith. Visual aids can enhance comprehension and make complex information more accessible to readers.\\n\\n4. **Citations and References:**\\n   - Support your claims with references to credible sources, research papers, or industry reports. Providing citations will add credibility to your analysis and demonstrate a thorough understanding of the subject matter.\\n\\n5. **Future Trends and Predictions:**\\n   - Consider discussing future trends in the blockchain industry and how LangChain and LangSmith are positioned to evolve in response to emerging technologies or market demands. Speculate on potential advancements or challenges that may impact these technologies.\\n\\n6. **Conclusion Enhancement:**\\n   - Strengthen the conclusion by summarizing the key takeaways from the comparison and offering insights into the potential implications for developers, businesses, and the blockchain ecosystem as a whole. Consider discussing the broader impact of these technologies on innovation and industry growth.\\n\\n**Additional Recommendations:**\\n- Expand the essay by providing more detailed explanations of the technical aspects, implementation strategies, and performance metrics of LangChain and LangSmith.\\n- Include real-world case studies or examples to illustrate how these technologies have been successfully applied in different blockchain projects.\\n- Consider exploring user feedback, reviews, or testimonials to provide a more holistic perspective on the practical usability and effectiveness of LangChain and LangSmith.\\n- Aim for a more balanced comparison by discussing both the similarities and differences between LangChain and LangSmith in each section.\\n- Proofread the essay for grammar, punctuation, and clarity to ensure a polished and professional presentation.\\n\\nOverall, by incorporating these recommendations, you can enhance the depth, analysis, and impact of your essay on exploring the contrasts between LangChain and LangSmith in the blockchain industry.'}}\n",
      "{'research_critique': {'content': ['This report aims to provide a detailed analysis of the difference between LangChain and LangSmith based on the information available from various sources. LangChain: A Language Model Software Tool for Prototyping. LangChain is a language model software tool that is primarily focused on helping developers build prototypes. It provides a platform ...', \"In this blog, we'll delve into the differences between LangChain and LangSmith, their pros and cons, and when to use each one. LangChain. LangChain is an open-source Python package that provides a framework for building and deploying LLM applications. It allows developers to create prototypes quickly and easily, making it an ideal choice for ...\", 'Overview of the library and its purpose LangChain is an open-source Python library that simplifies the process of building applications with LLMs. It provides tools and abstractions to help you integrate LLMs into your projects, create robust chains and agents, and manage memory and storage.', \"How to use tools in a chain How to migrate from legacy LangChain agents to LangGraph How to use chat models to call tools LangChain is a framework for developing applications powered by large language models (LLMs). Development: Build your applications using LangChain's open-source building blocks, components, and third-party integrations. langchain: Chains, agents, and retrieval strategies that make up an application's cognitive architecture. LangServe: Deploy LangChain chains as REST APIs. LangSmith: A developer platform that lets you debug, test, evaluate, and monitor LLM applications. Build stateful, multi-actor applications with LLMs. Integrates smoothly with LangChain, but can be used without it. LangChain is part of a rich ecosystem of tools that integrate with our framework and build on top of it.\", 'LangSmith is a unified DevOps platform for developing, collaborating, testing, deploying, and monitoring LLM applications - built for every step of the appli...', 'We consistently see developers relying on LangSmith to track the system-level performance of their application (like latency and cost), track the model/chain performance (through associating feedback with runs), debug issues (diving into a particular run that went wrong), and establish a broad understanding of how users are interacting with their application and what their experience is like.\\n Over the last few months, we’ve been working directly with some early design partners and testing it on our own internal workflows, and we’ve found LangSmith helps teams in 5 core ways:\\nDebugging\\nLangSmith gives you full visibility into model inputs and output of every step in the chain of events. As a very simple example, we considered it to be table stakes for LangSmith to help users easily create datasets from existing logs and use them immediately for testing and evaluation, seamlessly connecting the logging/debugging workflows to the testing/evaluation ones.\\n A unified platform\\nWhile each of these product areas provide unique value, often at a specific point in time in the development process, we believe a great deal of the long term impact of LangSmith will come from having a single, fully-integrated hub to do this work from. Additionally, tracing and evaluating the complex agent prompt chains is much easier, reducing the time required to debug and refine our prompts, and giving us the confidence to move to deployment.”\\n', \"LangChain's architecture is built on components and chains: Components: Core building blocks representing specific tasks or functionalities, which can be reused across different applications and ...\", \"How to use tools in a chain How to migrate from legacy LangChain agents to LangGraph How to use chat models to call tools LangChain is a framework for developing applications powered by large language models (LLMs). Development: Build your applications using LangChain's open-source building blocks, components, and third-party integrations. langchain: Chains, agents, and retrieval strategies that make up an application's cognitive architecture. LangServe: Deploy LangChain chains as REST APIs. LangSmith: A developer platform that lets you debug, test, evaluate, and monitor LLM applications. Build stateful, multi-actor applications with LLMs. Integrates smoothly with LangChain, but can be used without it. LangChain is part of a rich ecosystem of tools that integrate with our framework and build on top of it.\", 'LangSmith uses the following GCP storage services: Google Cloud Storage (GCS) for runs inputs and outputs. ... Scalability LangSmith is designed to be scalable and performant. As of load testing done in February 2024, LangSmith can comfortably process 500K+ runs (spans) per minute. We anticipate that LangSmith can process 750K+ runs per minute ...', 'LangSmith provides a robust evaluation and tracing framework that is essential for ensuring the reliability and performance of applications built with language models. This section delves into the various evaluators available in LangChain, focusing on how they can be utilized to assess and enhance application quality effectively.', 'Langchain vs Langsmith: Unpacking the AI Language Model Showdown\\nOverview of Langchain and Langsmith\\nLangchain is a versatile open-source framework that enables you to build applications utilizing large language models (LLM) like GPT-3. Check out our free WhatsApp channel to stay educated on LLM developments:\\nJoin the Finxter Academy and unlock access to premium courses 👑 to certify your skills in exponential technologies and programming.\\n Frequently Asked Questions\\nWhether you’re trying to figure out which tool fits your needs or you’re just getting started with language model automation, these FAQs will help shed light on the common curiosities about Langchain and LangSmith.\\n The best way to find out is to reach out to them through the LangSmith Walkthrough page or to inquire about access directly through their support channels.\\n Here’s how you might start a simple Langchain project in Python:\\nTo integrate LangSmith, you could write something like this:\\nYou’re not limited to Python, though.', 'LangChain Project Ideas for Beginners\\n1) ChatBot\\n2) Summarization Tool\\n3) Q&A System\\n4) Waiter Bot\\n5) Travel Planning App\\nLangChain Projects on GitHub\\n6) A Search Query App\\n7) CSV-AI (CSV Files Analyzer)\\n8) Twitter Agent\\n9) Instrukt\\n10) SolidGPT\\nLangChain Projects in Python\\n11) HRGPT\\n12) Math Problems Solver\\n13) Food Recipe Guide\\n14) Resume Analyzer\\n15) Code Review Assistant\\nLangChain Project Ideas for Beginners\\nWe will start this blog with beginner-friendly LangChain project ideas tailored to ignite your journey into leveraging LangChain for building exciting AI projects.\\n Project Library\\nCustom Project Path\\nResources\\n15 Langchain Projects to Enhance Your Portfolio in 2024\\nA list of exciting langchain project ideas to understand LangChain applications in the real world | ProjectPro\\nGet ready to\\xa0 to explore a detailed list of fifteen practical LangChain projects that will showcase its potential to revolutionize various domains through AI-driven innovation. Start Your First Project\\nRelated Blogs on Artificial Intelligence\\nTrending Blog Categories\\nProject Categories\\nProjects\\nBlogs\\nRecipes\\nTutorials\\nProjectPro\\n© 2023\\n© 2023 Iconiq Inc.\\nAbout us\\nContact us\\nPrivacy policy\\nUser policy\\nWrite for ProjectPro By integrating natural language understanding and generation, the bot can comprehend complex requests and provide personalized recommendations, taking into account individual preferences while delivering exceptional service in a restaurant setting.\\n5) Travel Planning App\\nOne can easily build a Travel Planning App using LangChain that will serve as a comprehensive tool for itinerary generation and travel information retrieval. In this section, you will find LangChain projects that can be easily implemented in Python.\\n11) HRGPT\\nThe HR GPT project is a transformative leap in the realm of Human Resources, offering an AI-powered assistant within Slack, designed to streamline employee support, onboarding processes, and myriad HR functions.', \"LangChain's architecture is built on components and chains: Components: Core building blocks representing specific tasks or functionalities, which can be reused across different applications and ...\", \"How to use tools in a chain How to migrate from legacy LangChain agents to LangGraph How to use chat models to call tools LangChain is a framework for developing applications powered by large language models (LLMs). Development: Build your applications using LangChain's open-source building blocks, components, and third-party integrations. langchain: Chains, agents, and retrieval strategies that make up an application's cognitive architecture. LangServe: Deploy LangChain chains as REST APIs. LangSmith: A developer platform that lets you debug, test, evaluate, and monitor LLM applications. Build stateful, multi-actor applications with LLMs. Integrates smoothly with LangChain, but can be used without it. LangChain is part of a rich ecosystem of tools that integrate with our framework and build on top of it.\", \"Use Cases. The following guides are provided to serve as example use cases for how you can use LangSmith's production logging and automations. These are not meant to be exhaustive, nor are they optimized for your use case. They are meant as a reference to help you get started. Add bad datapoints to an annotation queue\", \"Use Cases Guides. The following guides are provided to serve as examples for how you can use LangSmith's tracing capabilities to answer common questions about your application. These are not meant to be exhaustive, nor are they optimized for your use case. They are meant as a reference to help you get started. 📄️ Monitor application sentiment\", 'Sign up\\nSign in\\nSign up\\nSign in\\nTop 10 Blockchain Trends in 2024 Everyone Should Be Prepared For\\nAbdus Salaam Muwwakkil\\nFollow\\nRather Labs\\n--\\n15\\nListen\\nShare\\nAs a futurist, I like to think that it is my job to look ahead, so this year I would like to cover the emerging blockchain trends that would shape the digital world in the next 12 months.\\n --\\n--\\n15\\nWritten by Abdus Salaam Muwwakkil\\nRather Labs\\nAbdus helps data leaders and innovation teams deploy problem solving solutions to unlock the talents of their people and establish competitive advantages.\\n Governments are urged to establish regulations to ensure responsible implementation and equitable distribution of benefits for AI:\\nTrend #10: AI-Enabled Blockchain\\nThe convergence of blockchain and artificial intelligence (AI) is poised to disrupt various industries. Additionally, the Metaverse hosts several other models:\\nTrend #9: Guidelines and Future Directions for Implementing Metaverse Technologies\\nIn the evolving landscape of blockchain technology and the Metaverse, several key trends are emerging. Trend #3: The Rising Power of Decentralized Finance (DeFi) and its Impact on Modern Industries\\nAs DeFi (Decentralized Finance) expands its influence in the FinTech scene, it’s also enabling the birth of new facets, like GameFi, SocialFi, and InsureTech.', 'Key Takeaways\\nBlockchain Technology in 2024: 6 remarkable trends\\n1/ Growing Role in Global Finance\\nOnce relegated to the fringes of cryptocurrency, blockchain is now expected to have an increasingly significant role in the 2024 global financial landscape.\\n Conclusion\\nAs we stand at the threshold of 2024, several trends in the blockchain world are expected to emerge in the upcoming year, all of which surround the technology’s efficiency, transparency, and security.\\n Blockchain Challenges 2024\\nWhile the technology’s potential to revolutionize industries in the upcoming year is undeniable, and the advantages sound promising, the road to mainstream blockchain adoption is not without its twists and turns.\\n 3/ Ascendance of GameFi\\nAs we peer into the horizon of 2024, GameFi – the fusion of gaming and DeFi is emerging as a pivotal element in the evolving landscape of blockchain.\\n Indeed, the world witnessed tons of hacks within the crypto space in 2023 – the amount of theft and scams led to a global increase of 79% in crypto-related losses from the previous year (Chainanalysis, 2023).\\n']}}\n",
      "{'generate': {'draft': \"**Title: Exploring the Contrasts Between LangChain and LangSmith in the Blockchain Industry**\\n\\nI. Introduction\\nLangChain and LangSmith are two prominent tools in the blockchain industry, each offering unique features and capabilities. This essay aims to delve into the distinctions between LangChain and LangSmith to provide a comprehensive understanding of their roles and impacts.\\n\\nII. LangChain\\nLangChain is an open-source Python library designed to simplify the development of applications utilizing large language models (LLMs). It offers tools and abstractions to integrate LLMs into projects, create robust chains and agents, and manage memory and storage efficiently. LangChain enables developers to build applications using its open-source building blocks, components, and third-party integrations. Some key features include chains, agents, retrieval strategies, and the ability to deploy chains as REST APIs. Use cases for LangChain range from building ChatBots to HR assistants, making it versatile. However, one disadvantage is that it may require a learning curve for beginners due to its complexity.\\n\\nIII. LangSmith\\nIn contrast, LangSmith is a unified DevOps platform tailored for developing, collaborating, testing, deploying, and monitoring LLM applications. It provides full visibility into model inputs and outputs, aiding in debugging and refining prompts efficiently. LangSmith is known for its scalability, capable of processing a high volume of runs per minute. It offers a robust evaluation and tracing framework essential for ensuring application reliability and performance. LangSmith's advantage lies in its user-friendly interface and comprehensive monitoring capabilities. However, it may not be as versatile as LangChain in terms of application development.\\n\\nIV. Comparison between LangChain and LangSmith\\nA. Technology Stack: LangChain is built on open-source Python, while LangSmith integrates with GCP storage services.\\nB. Scalability: LangSmith is designed to process a higher volume of runs per minute compared to LangChain.\\nC. Security: Both tools prioritize security, but LangSmith's monitoring capabilities provide a more comprehensive approach.\\nD. Performance: LangChain focuses on application development, while LangSmith excels in monitoring and debugging.\\nE. Adoption and Popularity: LangChain is favored for its versatility, while LangSmith is preferred for its monitoring and evaluation features.\\n\\nV. Conclusion\\nIn conclusion, LangChain and LangSmith cater to different aspects of blockchain application development. While LangChain is ideal for building applications, LangSmith shines in monitoring and evaluating LLM applications. Understanding the differences between these tools is crucial for developers to choose the right tool for their specific needs, ultimately shaping the future of blockchain technology.\", 'revision_number': 4}}\n"
     ]
    }
   ],
   "source": [
    "thread = {\"configurable\": {\"thread_id\": \"1\"}}\n",
    "for s in graph_2.stream({\n",
    "    'task': \"what is the difference between langchain and langsmith\",\n",
    "    \"max_revisions\": 3,\n",
    "    \"revision_number\": 1,\n",
    "}, thread):\n",
    "    print(s)"
   ]
  },
  {
   "cell_type": "code",
   "execution_count": null,
   "metadata": {},
   "outputs": [],
   "source": [
    "\n"
   ]
  },
  {
   "cell_type": "code",
   "execution_count": null,
   "metadata": {},
   "outputs": [],
   "source": []
  }
 ],
 "metadata": {
  "kernelspec": {
   "display_name": "Python 3.11.5 ('base')",
   "language": "python",
   "name": "python3"
  },
  "language_info": {
   "codemirror_mode": {
    "name": "ipython",
    "version": 3
   },
   "file_extension": ".py",
   "mimetype": "text/x-python",
   "name": "python",
   "nbconvert_exporter": "python",
   "pygments_lexer": "ipython3",
   "version": "3.11.5"
  },
  "orig_nbformat": 4,
  "vscode": {
   "interpreter": {
    "hash": "78a73e9cea53431a004a8cb57099f417374d636685740d6545615ecc2fea032b"
   }
  }
 },
 "nbformat": 4,
 "nbformat_minor": 2
}
