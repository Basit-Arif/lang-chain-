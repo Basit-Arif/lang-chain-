{
 "cells": [
  {
   "cell_type": "code",
   "execution_count": 49,
   "metadata": {},
   "outputs": [],
   "source": [
    "import langgraph\n",
    "from langchain_community.tools.tavily_search import TavilySearchResults\n",
    "from langgraph.graph import StateGraph,END\n",
    "from langchain_core.messages import AIMessage,HumanMessage,SystemMessage,AnyMessage,ToolMessage\n",
    "from langgraph.checkpoint.sqlite import SqliteSaver\n",
    "import os\n",
    "from langchain_openai import ChatOpenAI\n",
    "from dotenv import load_dotenv\n",
    "from typing import TypedDict,Annotated,List\n",
    "import operator\n",
    "from IPython import Image,display\n"
   ]
  },
  {
   "cell_type": "code",
   "execution_count": 59,
   "metadata": {},
   "outputs": [],
   "source": [
    "load_dotenv()\n",
    "os.environ[\"OPENAI_API_KEY\"]=os.getenv(\"OPEN_API_KEY2\")\n",
    "os.environ[\"TAVILY_API_KEY\"]=os.getenv(\"TAVILY_API_KEY\")"
   ]
  },
  {
   "cell_type": "code",
   "execution_count": null,
   "metadata": {},
   "outputs": [],
   "source": []
  },
  {
   "cell_type": "code",
   "execution_count": 51,
   "metadata": {},
   "outputs": [],
   "source": [
    "tools=TavilySearchResults(max_results=4)"
   ]
  },
  {
   "cell_type": "code",
   "execution_count": 52,
   "metadata": {},
   "outputs": [
    {
     "data": {
      "text/plain": [
       "'tavily_search_results_json'"
      ]
     },
     "execution_count": 52,
     "metadata": {},
     "output_type": "execute_result"
    }
   ],
   "source": [
    "tools.name"
   ]
  },
  {
   "cell_type": "code",
   "execution_count": 53,
   "metadata": {},
   "outputs": [],
   "source": [
    "class AgentState(TypedDict):\n",
    "    messages:Annotated[List[AnyMessage],operator.add]\n"
   ]
  },
  {
   "cell_type": "code",
   "execution_count": 54,
   "metadata": {},
   "outputs": [],
   "source": [
    "class Agent:\n",
    "    def __init__(self, model, tools, system=\"\"):\n",
    "        self.system = system\n",
    "        graph = StateGraph(AgentState)\n",
    "        graph.add_node(\"llm\", self.call_openai)\n",
    "        graph.add_node(\"action\", self.take_action)\n",
    "        graph.add_conditional_edges(\n",
    "            \"llm\",\n",
    "            self.exists_action,\n",
    "            {True: \"action\", False: END}\n",
    "        )\n",
    "        graph.add_edge(\"action\", \"llm\")\n",
    "        graph.set_entry_point(\"llm\")\n",
    "        self.graph = graph.compile()\n",
    "        self.tools = {t.name: t for t in tools}\n",
    "        self.model = model.bind_tools(tools)\n",
    "\n",
    "    def exists_action(self, state: AgentState):\n",
    "        result = state['messages'][-1]\n",
    "        print(\"we are in exists_action\")\n",
    "        print(state['messages'][-1])\n",
    "        return len(result.tool_calls) > 0\n",
    "\n",
    "    def call_openai(self, state: AgentState):\n",
    "        messages = state['messages']\n",
    "        if self.system:\n",
    "            messages = [SystemMessage(content=self.system)] + messages\n",
    "        message = self.model.invoke(messages)\n",
    "        return {'messages': [message]}\n",
    "\n",
    "    def take_action(self, state: AgentState):\n",
    "        tool_calls = state['messages'][-1].tool_calls\n",
    "        results = []\n",
    "        for t in tool_calls:\n",
    "            print(f\"Calling: {t}\")\n",
    "            if not t['name'] in self.tools:      # check for bad tool name from LLM\n",
    "                print(\"\\n ....bad tool name....\")\n",
    "                result = \"bad tool name, retry\"  # instruct LLM to retry if bad\n",
    "            else:\n",
    "                result = self.tools[t['name']].invoke(t['args'])\n",
    "                print(f\"{t['name']}-{t['args']}\")\n",
    "                print(result)\n",
    "            results.append(ToolMessage(tool_call_id=t['id'], name=t['name'], content=str(result)))\n",
    "        print(\"Back to the model!\")\n",
    "        return {'messages': results}"
   ]
  },
  {
   "cell_type": "code",
   "execution_count": 61,
   "metadata": {},
   "outputs": [],
   "source": [
    "model = ChatOpenAI(model=\"gpt-3.5-turbo\")\n",
    "prompt=\"\"\"You are a smart research assistant. Use the search engine to look up information. \\\n",
    "You are allowed to make multiple calls (either together or in sequence). \\\n",
    "Only look up information when you are sure of what you want. \\\n",
    "If you need to look up some information before asking a follow up question, you are allowed to do that!\n",
    "\"\"\"\n",
    "abot = Agent(model=model,tools=[tools],system=prompt)"
   ]
  },
  {
   "cell_type": "code",
   "execution_count": 67,
   "metadata": {},
   "outputs": [
    {
     "name": "stdout",
     "output_type": "stream",
     "text": [
      "we are in exists_action\n",
      "content='' additional_kwargs={'tool_calls': [{'id': 'call_Ec14Vap8hNq0GutvTRoBOH8G', 'function': {'arguments': '{\"query\": \"Pakistan T20 World Cup win year\"}', 'name': 'tavily_search_results_json'}, 'type': 'function'}, {'id': 'call_QB8SbPyhOhHzcAglkn5tLMUj', 'function': {'arguments': '{\"query\": \"T20 World Cup location Pakistan win\"}', 'name': 'tavily_search_results_json'}, 'type': 'function'}], 'refusal': None} response_metadata={'token_usage': {'completion_tokens': 63, 'prompt_tokens': 170, 'total_tokens': 233, 'completion_tokens_details': {'audio_tokens': None, 'reasoning_tokens': 0}, 'prompt_tokens_details': {'audio_tokens': None, 'cached_tokens': 0}}, 'model_name': 'gpt-3.5-turbo-0125', 'system_fingerprint': None, 'finish_reason': 'tool_calls', 'logprobs': None} id='run-14c9b2cf-3c52-4d26-a64b-ccbf873759a9-0' tool_calls=[{'name': 'tavily_search_results_json', 'args': {'query': 'Pakistan T20 World Cup win year'}, 'id': 'call_Ec14Vap8hNq0GutvTRoBOH8G', 'type': 'tool_call'}, {'name': 'tavily_search_results_json', 'args': {'query': 'T20 World Cup location Pakistan win'}, 'id': 'call_QB8SbPyhOhHzcAglkn5tLMUj', 'type': 'tool_call'}] usage_metadata={'input_tokens': 170, 'output_tokens': 63, 'total_tokens': 233}\n",
      "Calling: {'name': 'tavily_search_results_json', 'args': {'query': 'Pakistan T20 World Cup win year'}, 'id': 'call_Ec14Vap8hNq0GutvTRoBOH8G', 'type': 'tool_call'}\n",
      "tavily_search_results_json-{'query': 'Pakistan T20 World Cup win year'}\n",
      "[{'url': 'https://www.crictracker.com/cricket-analysis/pakistans-t20-world-cup-history-from-2007-to-2024-stats-records-milestones-and-more-0461/', 'content': \"Let's take a look at Pakistan's T20 World Cup history T20 World Cup 2007, South Africa . If India vs Pakistan is the mother of all battles, the T20 World Cup 2007 witnessed the peak of their rivalry.\"}, {'url': \"https://en.wikipedia.org/wiki/Pakistan_at_the_ICC_Men's_T20_World_Cup\", 'content': 'The Pakistan national cricket team is one of the full members of the International Cricket Council (ICC), they are nicknamed as the Shaheens.The team has qualified for all the eight editions of the tournament, and were the champions of the second edition of the T20 World Cup in 2009, after defeating Sri Lanka in the final.Besides this victory, they have been the runners-up twice in 2007 and ...'}, {'url': 'https://www.espncricinfo.com/series/icc-world-twenty20-2009-335113/pakistan-vs-sri-lanka-final-356017/full-scorecard', 'content': 'Irani Cup (1) IND U19s vs AUS U19 (1) ... but the World Twenty20 win and two teenagers eased the pain a touch. Pakistan win the World Twenty20. When it all came together, thrillingly, dangerously ...'}, {'url': 'https://www.sportskeeda.com/cricket/t20-world-cup-winners', 'content': 'Check here for T20 World Cup Points Table\\nT20 World Cup 2016 Winner - West Indies\\nWest Indies became the first team to win the T20 World Cup twice. Who was the first winner of T20 World Cup?\\nIndia was the first country to win the T20 World Cup title against their arch rivals Pakistan.\\n Who has won the most T20 World Cup titles?\\nWest Indies are the only team to have won the ICC T20 World Cup trophy twice. Which teams have won the T20 World Cup?\\nWest Indies, India, England, Pakistan and Sri Lanka have won the ICC T20 World Cup till now.\\n T20 World Cup 2009 Winner - Pakistan\\nAfter finishing as runners-up in the first T20 World Cup, Pakistan won the trophy two years later in 2009.'}]\n",
      "Calling: {'name': 'tavily_search_results_json', 'args': {'query': 'T20 World Cup location Pakistan win'}, 'id': 'call_QB8SbPyhOhHzcAglkn5tLMUj', 'type': 'tool_call'}\n",
      "tavily_search_results_json-{'query': 'T20 World Cup location Pakistan win'}\n",
      "[{'url': 'https://www.skysports.com/cricket/news/12123/13227262/womens-t20-world-cup-2024-pakistan-dominate-sri-lanka-with-31-run-win-in-sharjah', 'content': \"Pakistan kicked off their T20 World Cup campaign with a dominant 31-run win over Sri Lanka in Sharjah. Chasing 117 to win in a low-scoring game, Pakistan's spinners reduced Sri Lanka to 35-3 with ...\"}, {'url': 'https://www.icc-cricket.com/tournaments/womens-t20-worldcup/videos/spectacular-pakistan-secure-a-famous-win-in-sharjah-match-highlights-wt20wc-2024', 'content': \"Spectacular Pakistan secure a famous win in Sharjah | Match Highlights | WT20WC 2024 4m. ... WT20WC 2024 4m. ICC Women's T20 World Cup, 2024. Pakistan overcome Sri Lanka in opening game | WT20WC 2024. 30m. Wickets. Sachini Nisansala - Wicket - Pakistan vs Sri Lanka. 37m. Wickets. Sugandika Kumari - Wicket - Pakistan vs Sri Lanka. 40m. Wickets.\"}, {'url': 'https://www.indiatoday.in/sports/cricket/story/womens-t20-world-cup-2024-pakistan-vs-sri-lanka-fatima-sana-chamari-athapaththu-sharjah-2610880-2024-10-03', 'content': \"Pakistan kickstarted their campaign with a resounding 31-run win against Asia Cup 2024 winners Sri Lanka in Sharjah. Pakistan captain Fatima Sana led the team from the front with her all-round show. Listen to Story Pakistan beat Sri Lanka by 31 runs in Women's T20 World Cup 2024 Fatima Sana won the ...\"}, {'url': 'https://crickettimes.com/2024/10/pakistan-overcomes-sri-lanka-with-convincing-win-in-womens-t20-world-cup-2024/', 'content': \"In Match 2 of Group A at the ICC Women's T20 World Cup 2024, held in Sharjah on Thursday (October 3), Pakistan clinched a comfortable victory over Sri Lanka by 31 runs. Defending a modest total of 116, Pakistan's disciplined bowling attack restricted Sri Lanka to 85/9 in their allotted 20 overs, ensuring a strong start to their World Cup campaign.\"}]\n",
      "Back to the model!\n",
      "we are in exists_action\n",
      "content=\"Pakistan won the T20 World Cup in the year 2009. The tournament was held in England. Unfortunately, I couldn't find specific information about the weather during that time.\" additional_kwargs={'refusal': None} response_metadata={'token_usage': {'completion_tokens': 37, 'prompt_tokens': 1306, 'total_tokens': 1343, 'completion_tokens_details': {'audio_tokens': None, 'reasoning_tokens': 0}, 'prompt_tokens_details': {'audio_tokens': None, 'cached_tokens': 0}}, 'model_name': 'gpt-3.5-turbo-0125', 'system_fingerprint': None, 'finish_reason': 'stop', 'logprobs': None} id='run-9a9647d8-7036-42d2-8ab6-1770c3b55ff8-0' usage_metadata={'input_tokens': 1306, 'output_tokens': 37, 'total_tokens': 1343}\n"
     ]
    }
   ],
   "source": [
    "messages = [HumanMessage(content=\"in which year pakistan won the t20 world cup? and in which is held and what was the weather at that time\")]\n",
    "# print(\"Input to invoke:\", {\"messages\": AgentState.message})\n",
    "\n",
    "result = abot.graph.invoke({\"messages\": messages})"
   ]
  },
  {
   "cell_type": "code",
   "execution_count": 68,
   "metadata": {},
   "outputs": [
    {
     "data": {
      "text/plain": [
       "\"Pakistan won the T20 World Cup in the year 2009. The tournament was held in England. Unfortunately, I couldn't find specific information about the weather during that time.\""
      ]
     },
     "execution_count": 68,
     "metadata": {},
     "output_type": "execute_result"
    }
   ],
   "source": [
    "result[\"messages\"][-1].content"
   ]
  },
  {
   "cell_type": "code",
   "execution_count": null,
   "metadata": {},
   "outputs": [],
   "source": []
  },
  {
   "cell_type": "code",
   "execution_count": null,
   "metadata": {},
   "outputs": [],
   "source": []
  }
 ],
 "metadata": {
  "kernelspec": {
   "display_name": "Python 3.11.5 ('base')",
   "language": "python",
   "name": "python3"
  },
  "language_info": {
   "codemirror_mode": {
    "name": "ipython",
    "version": 3
   },
   "file_extension": ".py",
   "mimetype": "text/x-python",
   "name": "python",
   "nbconvert_exporter": "python",
   "pygments_lexer": "ipython3",
   "version": "3.11.5"
  },
  "orig_nbformat": 4,
  "vscode": {
   "interpreter": {
    "hash": "78a73e9cea53431a004a8cb57099f417374d636685740d6545615ecc2fea032b"
   }
  }
 },
 "nbformat": 4,
 "nbformat_minor": 2
}
