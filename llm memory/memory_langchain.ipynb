{
 "cells": [
  {
   "cell_type": "code",
   "execution_count": 36,
   "metadata": {},
   "outputs": [],
   "source": [
    "from langchain.memory import ConversationBufferMemory\n",
    "from langchain.memory import ConversationBufferWindowMemory\n",
    "from langchain.chains import ConversationChain\n",
    "from langchain.memory import ConversationSummaryBufferMemory\n",
    "from langchain.chat_models import ChatOpenAI\n",
    "import os\n",
    "from dotenv import load_dotenv"
   ]
  },
  {
   "cell_type": "code",
   "execution_count": 11,
   "metadata": {},
   "outputs": [],
   "source": [
    "chat=ChatOpenAI(\n",
    "    api_key=os.getenv(\"basit_key\"),\n",
    "    model=\"gpt-3.5-turbo\",\n",
    "    temperature=0\n",
    ")\n",
    "memory=ConversationBufferMemory()\n",
    "chain=ConversationChain(\n",
    "    memory=memory,\n",
    "    llm=chat,\n",
    "    verbose=True\n",
    ")"
   ]
  },
  {
   "cell_type": "code",
   "execution_count": 20,
   "metadata": {},
   "outputs": [
    {
     "name": "stdout",
     "output_type": "stream",
     "text": [
      "\n",
      "\n",
      "\u001b[1m> Entering new ConversationChain chain...\u001b[0m\n",
      "Prompt after formatting:\n",
      "\u001b[32;1m\u001b[1;3mThe following is a friendly conversation between a human and an AI. The AI is talkative and provides lots of specific details from its context. If the AI does not know the answer to a question, it truthfully says it does not know.\n",
      "\n",
      "Current conversation:\n",
      "Human: hello\n",
      "AI: Hello! How can I assist you today?\n",
      "Human: hello my name is abdul Basit \n",
      "AI: Hello Abdul Basit! It's nice to meet you. How can I assist you today?\n",
      "Human: may i know where i can go squash near me \n",
      "AI: Sure! Can you please provide me with your location so that I can find squash courts near you?\n",
      "Human: yes i live in udhay ram street\n",
      "AI: I'm sorry, but I couldn't find any specific information about squash courts near Udhay Ram Street. However, you can try searching online for sports clubs or fitness centers in your area that may have squash courts available. Additionally, you can also ask locals or check with community centers in your neighborhood for any nearby squash facilities.\n",
      "Human: do know my loocation\n",
      "AI: I apologize, but as an AI, I don't have access to personal information or the ability to determine your location.\n",
      "Human: why is my name\n",
      "AI:\u001b[0m\n",
      "\n",
      "\u001b[1m> Finished chain.\u001b[0m\n"
     ]
    },
    {
     "data": {
      "text/plain": [
       "'Your name is Abdul Basit because that is the name you provided to me at the beginning of our conversation.'"
      ]
     },
     "execution_count": 20,
     "metadata": {},
     "output_type": "execute_result"
    }
   ],
   "source": [
    "chain.predict(input=\"why is my name\")"
   ]
  },
  {
   "cell_type": "code",
   "execution_count": 19,
   "metadata": {},
   "outputs": [
    {
     "data": {
      "text/plain": [
       "{'history': \"Human: hello\\nAI: Hello! How can I assist you today?\\nHuman: hello my name is abdul Basit \\nAI: Hello Abdul Basit! It's nice to meet you. How can I assist you today?\\nHuman: may i know where i can go squash near me \\nAI: Sure! Can you please provide me with your location so that I can find squash courts near you?\\nHuman: yes i live in udhay ram street\\nAI: I'm sorry, but I couldn't find any specific information about squash courts near Udhay Ram Street. However, you can try searching online for sports clubs or fitness centers in your area that may have squash courts available. Additionally, you can also ask locals or check with community centers in your neighborhood for any nearby squash facilities.\\nHuman: do know my loocation\\nAI: I apologize, but as an AI, I don't have access to personal information or the ability to determine your location.\"}"
      ]
     },
     "execution_count": 19,
     "metadata": {},
     "output_type": "execute_result"
    }
   ],
   "source": [
    "memory.load_memory_variables({})"
   ]
  },
  {
   "cell_type": "code",
   "execution_count": 24,
   "metadata": {},
   "outputs": [],
   "source": [
    "memory_window=ConversationBufferWindowMemory(\n",
    "    k=2\n",
    ")"
   ]
  },
  {
   "cell_type": "code",
   "execution_count": 25,
   "metadata": {},
   "outputs": [],
   "source": [
    "chat2=ConversationChain(\n",
    "    memory=memory_window,\n",
    "    llm=chat\n",
    ")"
   ]
  },
  {
   "cell_type": "code",
   "execution_count": 33,
   "metadata": {},
   "outputs": [
    {
     "data": {
      "text/plain": [
       "'If you\\'re in the mood for a comedy, I would suggest \"The Hangover\" directed by Todd Phillips. It\\'s a hilarious film about a group of friends who go to Las Vegas for a bachelor party and wake up the next morning with no memory of the previous night and a missing groom. The movie follows their outrageous and comedic adventures as they try to piece together what happened and find their friend. It\\'s filled with funny moments and unexpected twists that will keep you entertained throughout.'"
      ]
     },
     "execution_count": 33,
     "metadata": {},
     "output_type": "execute_result"
    }
   ],
   "source": [
    "chat2.predict(input=\"what about comedy\")"
   ]
  },
  {
   "cell_type": "code",
   "execution_count": 34,
   "metadata": {},
   "outputs": [
    {
     "data": {
      "text/plain": [
       "{'history': 'Human: motivational\\nAI: If you\\'re looking for a motivational movie, I would recommend \"The Pursuit of Happyness\" starring Will Smith. It\\'s based on a true story and follows the journey of a struggling salesman who becomes homeless with his young son, but eventually overcomes adversity and achieves success. It\\'s a heartwarming and inspiring film that showcases the power of determination and resilience.\\nHuman: what about comedy\\nAI: If you\\'re in the mood for a comedy, I would suggest \"The Hangover\" directed by Todd Phillips. It\\'s a hilarious film about a group of friends who go to Las Vegas for a bachelor party and wake up the next morning with no memory of the previous night and a missing groom. The movie follows their outrageous and comedic adventures as they try to piece together what happened and find their friend. It\\'s filled with funny moments and unexpected twists that will keep you entertained throughout.'}"
      ]
     },
     "execution_count": 34,
     "metadata": {},
     "output_type": "execute_result"
    }
   ],
   "source": [
    "memory_window.load_memory_variables({})"
   ]
  },
  {
   "cell_type": "code",
   "execution_count": 49,
   "metadata": {},
   "outputs": [],
   "source": [
    "memory_summary=ConversationSummaryBufferMemory(max_token_limit=100,llm=chat)"
   ]
  },
  {
   "cell_type": "code",
   "execution_count": 52,
   "metadata": {},
   "outputs": [],
   "source": [
    "schedule=\"There is a meeting at 8am with your product team. \\\n",
    "You will need your powerpoint presentation prepared. \\\n",
    "9am-12pm have time to work on your LangChain \\\n",
    "project which will go quickly because Langchain is such a powerful tool. \\\n",
    "At Noon, lunch at the italian resturant with a customer who is driving \\\n",
    "from over an hour away to meet you to understand the latest in AI. \\\n",
    "Be sure to bring your laptop to show the latest LLM demo.\"\n",
    "memory_summary.save_context({\"input\": \"Hello\"}, {\"output\": \"What's up\"})\n",
    "memory_summary.save_context({\"input\": \"Not much, just hanging\"},\n",
    "                    {\"output\": \"Cool\"})\n",
    "memory_summary.save_context({\n",
    "    \"input\": \"What is on the schedule today?\"}, \n",
    "            {\"output\": f\"{schedule}\"\n",
    "})"
   ]
  },
  {
   "cell_type": "code",
   "execution_count": 60,
   "metadata": {},
   "outputs": [
    {
     "data": {
      "text/plain": [
       "{'history': 'System: The human and AI exchange greetings and discuss their schedules for the day. The AI provides a detailed schedule, including a meeting with the product team, work on the LangChain project, and a lunch meeting with a customer interested in AI. The human asks what topics they can discuss with the product team, and the AI suggests various possibilities. The human then asks what else they should be aware of, and the AI advises reviewing updates on the LangChain project and the lunch meeting customer. The AI also reminds the human to have their laptop charged and ready to showcase the latest LLM demo during the lunch meeting.'}"
      ]
     },
     "execution_count": 60,
     "metadata": {},
     "output_type": "execute_result"
    }
   ],
   "source": [
    "memory_summary.load_memory_variables({})"
   ]
  },
  {
   "cell_type": "code",
   "execution_count": 55,
   "metadata": {},
   "outputs": [],
   "source": [
    "conversation = ConversationChain(\n",
    "    llm=chat, \n",
    "    memory = memory_summary,\n",
    "    verbose=True\n",
    ")"
   ]
  },
  {
   "cell_type": "code",
   "execution_count": 56,
   "metadata": {},
   "outputs": [
    {
     "name": "stdout",
     "output_type": "stream",
     "text": [
      "\n",
      "\n",
      "\u001b[1m> Entering new ConversationChain chain...\u001b[0m\n",
      "Prompt after formatting:\n",
      "\u001b[32;1m\u001b[1;3mThe following is a friendly conversation between a human and an AI. The AI is talkative and provides lots of specific details from its context. If the AI does not know the answer to a question, it truthfully says it does not know.\n",
      "\n",
      "Current conversation:\n",
      "System: The human and AI exchange greetings. The human mentions that they are not doing much and the AI responds with a casual remark. The human then asks about their schedule for the day. The AI provides a detailed schedule, including a meeting with the product team, work on the LangChain project, and a lunch meeting with a customer interested in AI. The AI also advises the human to bring their laptop to showcase the latest LLM demo during the lunch meeting.\n",
      "Human: what topic i can discuess on product tem\n",
      "AI:\u001b[0m\n",
      "\n",
      "\u001b[1m> Finished chain.\u001b[0m\n"
     ]
    },
    {
     "data": {
      "text/plain": [
       "\"You can discuss various topics with the product team, depending on their current focus and priorities. Some potential topics could include upcoming product features, user feedback and suggestions, market trends and competition, product roadmap and strategy, and any challenges or obstacles the team is facing. It's always a good idea to come prepared with specific questions or ideas to contribute to the discussion.\""
      ]
     },
     "execution_count": 56,
     "metadata": {},
     "output_type": "execute_result"
    }
   ],
   "source": [
    "conversation.predict(input=\"what topic i can discuess on product tem\")"
   ]
  },
  {
   "cell_type": "code",
   "execution_count": 59,
   "metadata": {},
   "outputs": [
    {
     "name": "stdout",
     "output_type": "stream",
     "text": [
      "\n",
      "\n",
      "\u001b[1m> Entering new ConversationChain chain...\u001b[0m\n",
      "Prompt after formatting:\n",
      "\u001b[32;1m\u001b[1;3mThe following is a friendly conversation between a human and an AI. The AI is talkative and provides lots of specific details from its context. If the AI does not know the answer to a question, it truthfully says it does not know.\n",
      "\n",
      "Current conversation:\n",
      "System: The human and AI exchange greetings. The human mentions that they are not doing much and the AI responds with a casual remark. The human then asks about their schedule for the day. The AI provides a detailed schedule, including a meeting with the product team, work on the LangChain project, and a lunch meeting with a customer interested in AI. The AI also advises the human to bring their laptop to showcase the latest LLM demo during the lunch meeting.\n",
      "Human: what topic i can discuess on product tem\n",
      "AI: You can discuss various topics with the product team, depending on their current focus and priorities. Some potential topics could include upcoming product features, user feedback and suggestions, market trends and competition, product roadmap and strategy, and any challenges or obstacles the team is facing. It's always a good idea to come prepared with specific questions or ideas to contribute to the discussion.\n",
      "Human: what else you want to keep in aware of\n",
      "AI:\u001b[0m\n",
      "\n",
      "\u001b[1m> Finished chain.\u001b[0m\n"
     ]
    },
    {
     "data": {
      "text/plain": [
       "\"As an AI, I don't have personal preferences or needs like humans do. However, if you're asking what else you should be aware of for the day, it might be helpful to review any recent updates or news related to the LangChain project or the customer you'll be meeting for lunch. Additionally, it's always a good idea to have your laptop charged and ready to showcase the latest LLM demo during the lunch meeting. Is there anything specific you would like me to keep in mind?\""
      ]
     },
     "execution_count": 59,
     "metadata": {},
     "output_type": "execute_result"
    }
   ],
   "source": [
    "conversation.predict(input=\"what else you want to keep in aware of\")"
   ]
  },
  {
   "cell_type": "markdown",
   "metadata": {},
   "source": []
  },
  {
   "cell_type": "code",
   "execution_count": null,
   "metadata": {},
   "outputs": [],
   "source": []
  },
  {
   "cell_type": "markdown",
   "metadata": {},
   "source": []
  }
 ],
 "metadata": {
  "kernelspec": {
   "display_name": "Python 3.11.5 ('base')",
   "language": "python",
   "name": "python3"
  },
  "language_info": {
   "codemirror_mode": {
    "name": "ipython",
    "version": 3
   },
   "file_extension": ".py",
   "mimetype": "text/x-python",
   "name": "python",
   "nbconvert_exporter": "python",
   "pygments_lexer": "ipython3",
   "version": "3.11.5"
  },
  "orig_nbformat": 4,
  "vscode": {
   "interpreter": {
    "hash": "78a73e9cea53431a004a8cb57099f417374d636685740d6545615ecc2fea032b"
   }
  }
 },
 "nbformat": 4,
 "nbformat_minor": 2
}
